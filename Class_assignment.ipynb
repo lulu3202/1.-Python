{
 "cells": [
  {
   "cell_type": "code",
   "execution_count": 1,
   "id": "c8e54849-bb9c-4e62-8f53-4da4ffa88237",
   "metadata": {},
   "outputs": [],
   "source": [
    " class SubfieldsInAI():\n",
    "    def Subfields():\n",
    "        print(\"Sub-fields in AI are:\")\n",
    "        List=['Machine Learning', 'Neural Networks', 'Vision', 'Robotics', 'Speech Processing', 'Natural Language Processing']\n",
    "        for temp in List:\n",
    "            print(temp)"
   ]
  },
  {
   "cell_type": "code",
   "execution_count": 2,
   "id": "e3f1bb32-a96b-4665-86bd-9aa489c913b6",
   "metadata": {},
   "outputs": [
    {
     "name": "stdout",
     "output_type": "stream",
     "text": [
      "Sub-fields in AI are:\n",
      "Machine Learning\n",
      "Neural Networks\n",
      "Vision\n",
      "Robotics\n",
      "Speech Processing\n",
      "Natural Language Processing\n"
     ]
    }
   ],
   "source": [
    "SubfieldsInAI.Subfields()"
   ]
  },
  {
   "cell_type": "code",
   "execution_count": 3,
   "id": "17a2f5b8-b607-46bc-80b1-f8cb230f7892",
   "metadata": {},
   "outputs": [],
   "source": [
    " class OddEven():\n",
    "    def OddEven():\n",
    "        num = int(input(\"Enter a number: \"))  \n",
    "        if (num % 2) == 0:  \n",
    "           print(\"{0} is Even number\".format(num))  \n",
    "        else:  \n",
    "           print(\"{0} is Odd number\".format(num)) "
   ]
  },
  {
   "cell_type": "code",
   "execution_count": 4,
   "id": "f0d4da08-88e5-4a8c-a884-3750f47b4d16",
   "metadata": {},
   "outputs": [
    {
     "name": "stdin",
     "output_type": "stream",
     "text": [
      "Enter a number:  52\n"
     ]
    },
    {
     "name": "stdout",
     "output_type": "stream",
     "text": [
      "52 is Even number\n"
     ]
    }
   ],
   "source": [
    "OddEven.OddEven()"
   ]
  },
  {
   "cell_type": "code",
   "execution_count": 5,
   "id": "6082007f-d746-4cd1-9f51-73d6e56f68dd",
   "metadata": {},
   "outputs": [],
   "source": [
    " class EligiblityForMarriage():\n",
    "    def Eligible():\n",
    "        gender=input(\"Your Gender:\")\n",
    "        age=int(input(\"Your Age:\"))\n",
    "        if(gender=='Male'):\n",
    "          if(age >=21):\n",
    "            print('ELIGIBLE')\n",
    "          else:\n",
    "            print('NOT ELIGIBLE')\n",
    "        elif(gender=='Female'):\n",
    "          if(age >18):\n",
    "            print('ELIGIBLE')\n",
    "          else:\n",
    "            print('NOT ELIGIBLE')\n",
    "        else:\n",
    "          print('INVALID INPUT DATA')"
   ]
  },
  {
   "cell_type": "code",
   "execution_count": 7,
   "id": "ff43ddb9-4f97-4471-8dc7-89d933bbe23d",
   "metadata": {},
   "outputs": [
    {
     "name": "stdin",
     "output_type": "stream",
     "text": [
      "Your Gender: Female\n",
      "Your Age: 30\n"
     ]
    },
    {
     "name": "stdout",
     "output_type": "stream",
     "text": [
      "ELIGIBLE\n"
     ]
    }
   ],
   "source": [
    "EligiblityForMarriage.Eligible()"
   ]
  },
  {
   "cell_type": "code",
   "execution_count": 8,
   "id": "7244c29e-9091-464f-90cf-d6ff82a58e9e",
   "metadata": {},
   "outputs": [],
   "source": [
    "class FindPercent():\n",
    "     def percentage():\n",
    "            m1=int(input(\"Subject1= \"))\n",
    "            m2=int(input(\"Subject2= \"))\n",
    "            m3=int(input(\"Subject3= \"))\n",
    "            m4=int(input(\"Subject4= \"))\n",
    "            m5=int(input(\"Subject5= \"))\n",
    "            Total = m1+m2+m3+m4+m5\n",
    "            print(\"Total : \",m1+m2+m3+m4+m5)\n",
    "            Percent = (Total / 500) * 100\n",
    "            print(\"Percentage : \",Percent)"
   ]
  },
  {
   "cell_type": "code",
   "execution_count": 9,
   "id": "d955f0f4-341a-4467-a49a-33456085b874",
   "metadata": {},
   "outputs": [
    {
     "name": "stdin",
     "output_type": "stream",
     "text": [
      "Subject1=  98\n",
      "Subject2=  87\n",
      "Subject3=  95\n",
      "Subject4=  95\n",
      "Subject5=  93\n"
     ]
    },
    {
     "name": "stdout",
     "output_type": "stream",
     "text": [
      "Total :  468\n",
      "Percentage :  93.60000000000001\n"
     ]
    }
   ],
   "source": [
    "FindPercent.percentage()\n"
   ]
  },
  {
   "cell_type": "code",
   "execution_count": 10,
   "id": "9a48fd29-d43c-4a4d-bab1-b8ec0f37e25f",
   "metadata": {},
   "outputs": [],
   "source": [
    " class triangle():\n",
    "    def triangle():\n",
    "        Height=int(input(\"Height:\"))\n",
    "        breadth=int(input(\"Breadth:\"))\n",
    "        print(\"Area formula: (Height*Breadth)/2\")\n",
    "        print(\"Area of Triangle: \",(Height*breadth)/2)\n",
    "        Height1=int(input(\"Height1:\"))\n",
    "        Height2=int(input(\"Height2:\"))\n",
    "        breadth=int(input(\"Breadth:\"))\n",
    "        print(\"Perimeter formula: Height1+Height2+Breadth\")\n",
    "        print(\"Perimeter of Triangle: \",Height1+Height2+breadth)"
   ]
  },
  {
   "cell_type": "code",
   "execution_count": 11,
   "id": "76986b8d-d227-4810-a093-7e58c0630642",
   "metadata": {},
   "outputs": [
    {
     "name": "stdin",
     "output_type": "stream",
     "text": [
      "Height: 32\n",
      "Breadth: 34\n"
     ]
    },
    {
     "name": "stdout",
     "output_type": "stream",
     "text": [
      "Area formula: (Height*Breadth)/2\n",
      "Area of Triangle:  544.0\n"
     ]
    },
    {
     "name": "stdin",
     "output_type": "stream",
     "text": [
      "Height1: 4\n",
      "Height2: 4\n",
      "Breadth: 4\n"
     ]
    },
    {
     "name": "stdout",
     "output_type": "stream",
     "text": [
      "Perimeter formula: Height1+Height2+Breadth\n",
      "Perimeter of Triangle:  12\n"
     ]
    }
   ],
   "source": [
    "triangle.triangle()"
   ]
  },
  {
   "cell_type": "code",
   "execution_count": null,
   "id": "08c448f6-10ba-4692-9ec3-b1f4e884530f",
   "metadata": {},
   "outputs": [],
   "source": []
  }
 ],
 "metadata": {
  "kernelspec": {
   "display_name": "Python 3 (ipykernel)",
   "language": "python",
   "name": "python3"
  },
  "language_info": {
   "codemirror_mode": {
    "name": "ipython",
    "version": 3
   },
   "file_extension": ".py",
   "mimetype": "text/x-python",
   "name": "python",
   "nbconvert_exporter": "python",
   "pygments_lexer": "ipython3",
   "version": "3.12.4"
  }
 },
 "nbformat": 4,
 "nbformat_minor": 5
}
