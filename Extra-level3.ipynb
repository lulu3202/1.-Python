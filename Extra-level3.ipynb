{
 "cells": [
  {
   "cell_type": "code",
   "execution_count": 6,
   "id": "e3334498-a0ab-4f87-90a4-c47908d0a020",
   "metadata": {},
   "outputs": [
    {
     "name": "stdin",
     "output_type": "stream",
     "text": [
      "value:  10\n"
     ]
    },
    {
     "name": "stdout",
     "output_type": "stream",
     "text": [
      "Correct\n"
     ]
    }
   ],
   "source": [
    "i = int(input(\"value: \")) \n",
    "if(i==10):\n",
    "    print(\"Correct\") \n",
    "else: \n",
    "    print(\"wrong\") "
   ]
  },
  {
   "cell_type": "code",
   "execution_count": 7,
   "id": "fdf99565-20b6-40b8-a411-714f1886f91b",
   "metadata": {},
   "outputs": [
    {
     "name": "stdin",
     "output_type": "stream",
     "text": [
      "Enter the password:  HOPE@123\n"
     ]
    },
    {
     "name": "stdout",
     "output_type": "stream",
     "text": [
      "Your password is correct\n"
     ]
    }
   ],
   "source": [
    "password = input(\"Enter the password: \") \n",
    "if(password == \"HOPE@123\" ): \n",
    "    print(\"Your password is correct\") \n",
    "else: \n",
    "    print(\"Your password is wrong, check your password\")"
   ]
  },
  {
   "cell_type": "code",
   "execution_count": 8,
   "id": "e4020298-2dc3-4a1f-bafa-b0a55c6c48df",
   "metadata": {},
   "outputs": [
    {
     "name": "stdin",
     "output_type": "stream",
     "text": [
      "age:  20\n"
     ]
    },
    {
     "name": "stdout",
     "output_type": "stream",
     "text": [
      "Adult\n"
     ]
    }
   ],
   "source": [
    "num = int(input(\"age: \")) \n",
    "if (num <= 18): \n",
    "    print(\"Children\") \n",
    "elif (num <= 35): \n",
    "    print(\"Adult\") \n",
    "elif (num <= 60): \n",
    "    print(\"Citizen\") \n",
    "else: \n",
    "    print(\"senior citizen\")"
   ]
  },
  {
   "cell_type": "code",
   "execution_count": 9,
   "id": "1762dc9a-19b6-4de1-8262-8b73eb015b45",
   "metadata": {},
   "outputs": [
    {
     "name": "stdin",
     "output_type": "stream",
     "text": [
      "Enter any number: 1\n"
     ]
    },
    {
     "name": "stdout",
     "output_type": "stream",
     "text": [
      "Number is positive\n"
     ]
    }
   ],
   "source": [
    "n = int(input(\"Enter any number:\")) \n",
    "if n>0: \n",
    "    print(\"Number is positive\") \n",
    "elif n<0: \n",
    "    print(\"Number is negative\") \n",
    "else: \n",
    "    print(\"Zero\") "
   ]
  },
  {
   "cell_type": "code",
   "execution_count": 11,
   "id": "64347964-ea71-464d-bb6b-469d52904bb2",
   "metadata": {},
   "outputs": [
    {
     "name": "stdin",
     "output_type": "stream",
     "text": [
      "Enter a number to check: 22\n"
     ]
    },
    {
     "name": "stdout",
     "output_type": "stream",
     "text": [
      "Number is not divisible by 5\n"
     ]
    }
   ],
   "source": [
    "n = int(input(\"Enter a number to check:\")) \n",
    "if n%5==0: \n",
    "    print(\"Number is divisible by 5\") \n",
    "else: \n",
    "    print(\"Number is not divisible by 5\") "
   ]
  },
  {
   "cell_type": "code",
   "execution_count": null,
   "id": "2df303ce-9963-40c8-9d0c-5dc78c166a54",
   "metadata": {},
   "outputs": [],
   "source": []
  }
 ],
 "metadata": {
  "kernelspec": {
   "display_name": "Python 3 (ipykernel)",
   "language": "python",
   "name": "python3"
  },
  "language_info": {
   "codemirror_mode": {
    "name": "ipython",
    "version": 3
   },
   "file_extension": ".py",
   "mimetype": "text/x-python",
   "name": "python",
   "nbconvert_exporter": "python",
   "pygments_lexer": "ipython3",
   "version": "3.12.4"
  }
 },
 "nbformat": 4,
 "nbformat_minor": 5
}
