{
 "cells": [
  {
   "cell_type": "code",
   "execution_count": 3,
   "id": "5ee15ccd-064e-4b7a-b3ea-97de8a82baef",
   "metadata": {},
   "outputs": [],
   "source": [
    " def Subfields():\n",
    "     print(\"Sub-fields in AI are:\")\n",
    "     List=['Machine Learning', 'Neural Networks', 'Vision', 'Robotics', 'Speech␣Processing', 'Natural Language Processing']\n",
    "     for temp in List:\n",
    "         print(temp)"
   ]
  },
  {
   "cell_type": "code",
   "execution_count": null,
   "id": "b467dd10-a589-4fd0-a2ec-9faf13f83d93",
   "metadata": {},
   "outputs": [],
   "source": []
  },
  {
   "cell_type": "code",
   "execution_count": 4,
   "id": "e6edf405-df6c-4b59-9813-25f95b46ba0d",
   "metadata": {},
   "outputs": [
    {
     "name": "stdout",
     "output_type": "stream",
     "text": [
      "Sub-fields in AI are:\n",
      "Machine Learning\n",
      "Neural Networks\n",
      "Vision\n",
      "Robotics\n",
      "Speech␣Processing\n",
      "Natural Language Processing\n"
     ]
    }
   ],
   "source": [
    "Subfields()\n"
   ]
  },
  {
   "cell_type": "code",
   "execution_count": 5,
   "id": "bc6b884a-ea6c-41e4-b952-89bb727f507e",
   "metadata": {},
   "outputs": [],
   "source": [
    "def OddEven():\n",
    "     num = int(input(\"Enter a number: \"))\n",
    "     if (num % 2) == 0:\n",
    "         print(\"{0} is Even number\".format(num))\n",
    "     else:\n",
    "         print(\"{0} is Odd number\".format(num))"
   ]
  },
  {
   "cell_type": "code",
   "execution_count": 6,
   "id": "58c4b791-81fb-4fe7-9706-358d1eb866c5",
   "metadata": {},
   "outputs": [
    {
     "name": "stdin",
     "output_type": "stream",
     "text": [
      "Enter a number:  2\n"
     ]
    },
    {
     "name": "stdout",
     "output_type": "stream",
     "text": [
      "2 is Even number\n"
     ]
    }
   ],
   "source": [
    "OddEven()"
   ]
  },
  {
   "cell_type": "code",
   "execution_count": 23,
   "id": "a01248f8-d686-4f7c-b2f7-387320a9a7b0",
   "metadata": {},
   "outputs": [],
   "source": [
    "def Eligible():\n",
    "    gender = input(\"Your Gender: \")\n",
    "    age = int(input(\"Your Age: \"))\n",
    "    if gender == 'Male':\n",
    "        if age >= 21:\n",
    "            print('ELIGIBLE')\n",
    "        else:\n",
    "            print('NOT ELIGIBLE')\n",
    "    elif gender == 'Female':\n",
    "        if age > 18:\n",
    "            print('ELIGIBLE')\n",
    "        else:\n",
    "            print('NOT ELIGIBLE')\n",
    "    else:\n",
    "        print('INVALID INPUT DATA')\n"
   ]
  },
  {
   "cell_type": "code",
   "execution_count": 24,
   "id": "dc5ace9b-e9df-4826-96ca-5e8dee243ae4",
   "metadata": {},
   "outputs": [
    {
     "name": "stdin",
     "output_type": "stream",
     "text": [
      "Your Gender:  20\n",
      "Your Age:  20\n"
     ]
    },
    {
     "name": "stdout",
     "output_type": "stream",
     "text": [
      "INVALID INPUT DATA\n"
     ]
    }
   ],
   "source": [
    "Eligible()"
   ]
  },
  {
   "cell_type": "code",
   "execution_count": 25,
   "id": "5464c8c3-4677-4b93-ab80-d5d1c618a4a7",
   "metadata": {},
   "outputs": [
    {
     "name": "stdin",
     "output_type": "stream",
     "text": [
      "Your Gender:  Female\n",
      "Your Age:  20\n"
     ]
    },
    {
     "name": "stdout",
     "output_type": "stream",
     "text": [
      "ELIGIBLE\n"
     ]
    }
   ],
   "source": [
    "Eligible()"
   ]
  },
  {
   "cell_type": "code",
   "execution_count": 27,
   "id": "e367f2da-69fd-4e8c-beb3-719690039ee9",
   "metadata": {},
   "outputs": [],
   "source": [
    " def percentage():\n",
    "     m1=int(input(\"Subject1= \"))\n",
    "     m2=int(input(\"Subject2= \"))\n",
    "     m3=int(input(\"Subject3= \"))\n",
    "     m4=int(input(\"Subject4= \"))\n",
    "     m5=int(input(\"Subject5= \"))\n",
    "     Total = m1+m2+m3+m4+m5\n",
    "     print(\"Total : \",m1+m2+m3+m4+m5)\n",
    "     Percent = (Total / 500) * 100\n",
    "     print(\"Percentage : \",Percent)"
   ]
  },
  {
   "cell_type": "code",
   "execution_count": 28,
   "id": "634cb3ee-47cd-44a1-98ec-96c0d1825522",
   "metadata": {},
   "outputs": [
    {
     "name": "stdin",
     "output_type": "stream",
     "text": [
      "Subject1=  23\n",
      "Subject2=  45\n",
      "Subject3=  34\n",
      "Subject4=  23\n",
      "Subject5=  23\n"
     ]
    },
    {
     "name": "stdout",
     "output_type": "stream",
     "text": [
      "Total :  148\n",
      "Percentage :  29.599999999999998\n"
     ]
    }
   ],
   "source": [
    "percentage()"
   ]
  },
  {
   "cell_type": "code",
   "execution_count": 29,
   "id": "90d9c58e-8557-49b2-9814-6d32d621884c",
   "metadata": {},
   "outputs": [],
   "source": [
    " def triangle():\n",
    "     Height=int(input(\"Height:\"))\n",
    "     breadth=int(input(\"Breadth:\"))\n",
    "     print(\"Area formula: (Height*Breadth)/2\")\n",
    "     print(\"Area of Triangle: \",(Height*breadth)/2)\n",
    "     Height1=int(input(\"Height1:\"))\n",
    "     Height2=int(input(\"Height2:\"))\n",
    "     breadth=int(input(\"Breadth:\"))\n",
    "     print(\"Perimeter formula: Height1+Height2+Breadth\")\n",
    "     print(\"Perimeter of Triangle: \",Height1+Height2+breadth)"
   ]
  },
  {
   "cell_type": "code",
   "execution_count": 30,
   "id": "33322a15-c129-447a-85a7-2c3054d5a81b",
   "metadata": {},
   "outputs": [
    {
     "name": "stdin",
     "output_type": "stream",
     "text": [
      "Height: 3\n",
      "Breadth: 4\n"
     ]
    },
    {
     "name": "stdout",
     "output_type": "stream",
     "text": [
      "Area formula: (Height*Breadth)/2\n",
      "Area of Triangle:  6.0\n"
     ]
    },
    {
     "name": "stdin",
     "output_type": "stream",
     "text": [
      "Height1: 3\n",
      "Height2: 4\n",
      "Breadth: 45\n"
     ]
    },
    {
     "name": "stdout",
     "output_type": "stream",
     "text": [
      "Perimeter formula: Height1+Height2+Breadth\n",
      "Perimeter of Triangle:  52\n"
     ]
    }
   ],
   "source": [
    "triangle()"
   ]
  },
  {
   "cell_type": "code",
   "execution_count": null,
   "id": "2b17d680-61fe-4fc9-bb54-3313478c93ba",
   "metadata": {},
   "outputs": [],
   "source": []
  }
 ],
 "metadata": {
  "kernelspec": {
   "display_name": "Python 3 (ipykernel)",
   "language": "python",
   "name": "python3"
  },
  "language_info": {
   "codemirror_mode": {
    "name": "ipython",
    "version": 3
   },
   "file_extension": ".py",
   "mimetype": "text/x-python",
   "name": "python",
   "nbconvert_exporter": "python",
   "pygments_lexer": "ipython3",
   "version": "3.12.4"
  }
 },
 "nbformat": 4,
 "nbformat_minor": 5
}
