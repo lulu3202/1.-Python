{
 "cells": [
  {
   "cell_type": "code",
   "execution_count": 13,
   "id": "d3eb40d0-c579-496c-91d9-c18c3b1e87f1",
   "metadata": {},
   "outputs": [],
   "source": [
    "from multipleFunctions import multipleFunctions\n",
    "#from fileName import className"
   ]
  },
  {
   "cell_type": "code",
   "execution_count": 14,
   "id": "cc4f537f-6660-49bb-b864-205842cd6f98",
   "metadata": {},
   "outputs": [
    {
     "name": "stdin",
     "output_type": "stream",
     "text": [
      "Enter a number:  2\n"
     ]
    },
    {
     "name": "stdout",
     "output_type": "stream",
     "text": [
      "2 is Even number\n"
     ]
    }
   ],
   "source": [
    "multipleFunctions.OddEven()\n"
   ]
  },
  {
   "cell_type": "code",
   "execution_count": null,
   "id": "6183cde9-3f74-4d3c-b686-df472000d74a",
   "metadata": {},
   "outputs": [],
   "source": []
  }
 ],
 "metadata": {
  "kernelspec": {
   "display_name": "Python 3 (ipykernel)",
   "language": "python",
   "name": "python3"
  },
  "language_info": {
   "codemirror_mode": {
    "name": "ipython",
    "version": 3
   },
   "file_extension": ".py",
   "mimetype": "text/x-python",
   "name": "python",
   "nbconvert_exporter": "python",
   "pygments_lexer": "ipython3",
   "version": "3.12.4"
  }
 },
 "nbformat": 4,
 "nbformat_minor": 5
}
